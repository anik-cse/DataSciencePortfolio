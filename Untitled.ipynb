{
 "cells": [
  {
   "cell_type": "code",
   "execution_count": null,
   "id": "77c3d45f",
   "metadata": {},
   "outputs": [],
   "source": [
    "import pandas as pd\n",
    "import numpy as np\n",
    "import matplotlib.pyplot as plt\n",
    "import seaborn as sns\n",
    "wine=pd.read_csv('D:\\Data\\winequality-white.csv')\n",
    "wine.head(2)\n",
    "wine.shape\n",
    "#Insert new Rows\n",
    "datarowsSeries=[\n",
    "\n",
    "pd.Series([8.18,1.26,0.38,1.9,0.47,25.38,67.38,1.371,3.22,1.06,10.18,5],index=wine.column\n",
    "s),\n",
    "\n",
    "pd.Series([7.58,1.21,0.39,2.2,0.57,15.38,60.38,1.376,3.52,0.93,09.98,6],index=wine.column\n",
    "s),\n",
    "\n",
    "pd.Series([8.28,1.27,0.39,1.7,0.46,22.38,57.38,1.377,3.26,1.02,10.18,2],index=wine.column\n",
    "s),\n",
    "\n",
    "pd.Series([8.08,1.24,0.40,2.3,0.47,21.38,38.38,1.374,3.12,0.46,09.78,3],index=wine.column\n",
    "s)\n",
    " ]\n",
    "new_data=wine.append(datarowsSeries,ignore_index=True)\n",
    "df=new_data\n",
    "df['quality'].value_counts()\n",
    "df['quality'] = df['quality'].apply(lambda x: 'Good' if x >= 5 else 'Average')\n",
    "df.head(20)\n",
    "df.describe()\n",
    "df.info()\n",
    "#Fig-1 Box Plot of Citric Acid\n",
    "plt.figure(figsize=(5,5))\n",
    "plt.boxplot(df['citric acid'])\n",
    "plt.title('Fig-1: Citric Acid Boxplot')\n",
    "plt.show()\n",
    "#Fig-2 Box Plot of Cholorides\n",
    "plt.figure(figsize=(5,5))\n",
    "plt.boxplot(df['chlorides'])\n",
    "plt.title('Fig-2: chlorides')\n",
    "plt.show()"
   ]
  }
 ],
 "metadata": {
  "kernelspec": {
   "display_name": "Python 3",
   "language": "python",
   "name": "python3"
  },
  "language_info": {
   "codemirror_mode": {
    "name": "ipython",
    "version": 3
   },
   "file_extension": ".py",
   "mimetype": "text/x-python",
   "name": "python",
   "nbconvert_exporter": "python",
   "pygments_lexer": "ipython3",
   "version": "3.8.8"
  }
 },
 "nbformat": 4,
 "nbformat_minor": 5
}
