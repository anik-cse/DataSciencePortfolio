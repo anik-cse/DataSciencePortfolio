{
 "cells": [
  {
   "cell_type": "code",
   "execution_count": 2,
   "id": "3f7219b6",
   "metadata": {},
   "outputs": [
    {
     "ename": "IndentationError",
     "evalue": "unexpected indent (<ipython-input-2-78238f22de1c>, line 22)",
     "output_type": "error",
     "traceback": [
      "\u001b[1;36m  File \u001b[1;32m\"<ipython-input-2-78238f22de1c>\"\u001b[1;36m, line \u001b[1;32m22\u001b[0m\n\u001b[1;33m    big     small\u001b[0m\n\u001b[1;37m    ^\u001b[0m\n\u001b[1;31mIndentationError\u001b[0m\u001b[1;31m:\u001b[0m unexpected indent\n"
     ]
    }
   ],
   "source": [
    "# import pandas\n",
    "import pandas as pd\n",
    "\n",
    "# import numpy\n",
    "import numpy as np\n",
    "\n",
    "# import seaborn\n",
    "import seaborn as sb\n",
    "\n",
    "# Reading the dataset\n",
    "import matplotlib.pyplot as plt\n",
    "\n",
    "#adding two digits of ID as decimal points ID=20215041\n",
    "df1 = df1.assign(fixedAcidity=df1.fixedAcidity+0.41)\n",
    "\n",
    "df1 = df1.assign(volatileAcidity=df1.volatileAcidity + 0.41)\n",
    "df1 = df1.assign(citricAcid=df1.citricAcid + 0.41)\n",
    "df1 = df1.assign(chlorides=df1.chlorides + 0.41)\n",
    "df1 = df1.assign(freeSulfurDioxide=df1.freeSulfurDioxide + 0.41)\n",
    "df1 = df1.assign(totalSulfurDioxide=df1.totalSulfurDioxide + 0.41)\n",
    "df1 = df1.assign(density=df1.density + 0.41)\n",
    "df1 = df1.assign(sulphates=df1.sulphates + 0.41)\n",
    "df1 = df1.assign(alcohol=df1.alcohol + 0.41)\n",
    "\n",
    "display (df1)"
   ]
  },
  {
   "cell_type": "code",
   "execution_count": null,
   "id": "071e93e6",
   "metadata": {},
   "outputs": [],
   "source": []
  }
 ],
 "metadata": {
  "kernelspec": {
   "display_name": "Python 3",
   "language": "python",
   "name": "python3"
  },
  "language_info": {
   "codemirror_mode": {
    "name": "ipython",
    "version": 3
   },
   "file_extension": ".py",
   "mimetype": "text/x-python",
   "name": "python",
   "nbconvert_exporter": "python",
   "pygments_lexer": "ipython3",
   "version": "3.8.8"
  }
 },
 "nbformat": 4,
 "nbformat_minor": 5
}
